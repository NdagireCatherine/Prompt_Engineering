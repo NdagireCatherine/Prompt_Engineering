{
 "cells": [
  {
   "cell_type": "markdown",
   "id": "f396faee",
   "metadata": {},
   "source": [
    "## NDAGIRE CATHERINE - M24B38/004"
   ]
  },
  {
   "cell_type": "markdown",
   "id": "0c6b9f69",
   "metadata": {},
   "source": [
    "### EXERCISE 2:\n",
    "1. At what point in the code is the user’s input appended to the conversation history?\n",
    "2. What method is used to send the conversation prompt to GPT-5?\n",
    "3. How does the code handle empty user inputs?\n",
    "4. Modify the code so that the assistant’s replies are limited to at least 15 words and at most 50 words.\n",
    "5. Update the script to allow the user to save the entire conversation history into a .txt file once they type save.\n",
    "6. Add error handling so that if the API call fails, the program retries three times before quitting.\n",
    "7. Add functionality for the assistant to summarise the conversation so far if the user types summary."
   ]
  },
  {
   "cell_type": "markdown",
   "id": "1352dc37",
   "metadata": {},
   "source": [
    "#### Number 1\n",
    "\n",
    "The user's input is appended to the conversation history at the line history.append(f\"User: {user_msg}\"). This happens after the code checks if the user's message is empty and before the prompt is sent to the API."
   ]
  },
  {
   "cell_type": "markdown",
   "id": "6aca3596",
   "metadata": {},
   "source": [
    "#### Number 2\n",
    "\n",
    "The code uses the client.responses.create() method to send the conversation prompt to the GPT-5 model."
   ]
  },
  {
   "cell_type": "markdown",
   "id": "67c43bec",
   "metadata": {},
   "source": [
    "#### Number 3\n",
    "\n",
    "The code handles empty user inputs with a if not user_msg: continue check. If the user's input is an empty string, this line tells the program to skip the rest of the loop and immediately move on to the next iteration, prompting the user for a new message."
   ]
  },
  {
   "cell_type": "markdown",
   "id": "31b60619",
   "metadata": {},
   "source": [
    "#### Updated Code"
   ]
  },
  {
   "cell_type": "code",
   "execution_count": null,
   "id": "bcab176f-cc00-45b7-b505-267a32146101",
   "metadata": {},
   "outputs": [],
   "source": [
    "# Requires: openai >= 1.60.0\n",
    "# Run: pip install --upgrade openai\n",
    "\n",
    "from openai import OpenAI\n",
    "import time\n",
    "\n",
    "# Create an OpenAI client (replace with your real key or env var)\n",
    "client = OpenAI(api_key=\"Your OPENAI Key Here\")\n",
    "\n",
    "# Define system prompt with response length constraints\n",
    "system_prompt = \"You are an intelligent assistant. You must limit your responses to at least 15 words and at most 50 words.\"\n",
    "\n",
    "# Keep every turn as a simple string in `history`\n",
    "history = [f\"System: {system_prompt}\"]\n",
    "\n",
    "# Interactive loop\n",
    "print(\"Type your messages. Type 'bye' to exit.\")\n",
    "print(\"Type 'save' to save the conversation. Type 'summary' to get a summary.\\n\")\n",
    "\n",
    "#Number 5 and Number 7\n",
    "# GPT-5 interactive chat with save and summary features\n",
    "while True:\n",
    "    user_msg = input(\"User: \").strip()\n",
    "    if not user_msg:\n",
    "        continue\n",
    "    if user_msg.lower() == \"bye\":\n",
    "        print(\"GPT-5: Goodbye 👋\")\n",
    "        break\n",
    "    \n",
    "    if user_msg.lower() == \"save\":\n",
    "        with open(\"conversation_history.txt\", \"w\") as f:\n",
    "            f.write(\"\\n\".join(history))\n",
    "        print(\"Conversation saved to conversation_history.txt\\n\")\n",
    "        continue\n",
    "\n",
    "    if user_msg.lower() == \"summary\":\n",
    "        # Create a new prompt for the summary request\n",
    "        summary_prompt = \"\\n\".join(history) + \"\\n\\nUser: Please summarize the conversation so far.\"\n",
    "        try:\n",
    "            response = client.responses.create(\n",
    "                model=\"gpt-5\",\n",
    "                input=summary_prompt,\n",
    "                reasoning={\"effort\": \"medium\"},\n",
    "                text={\"verbosity\": \"medium\"}\n",
    "            )\n",
    "            summary_text = response.output_text.strip()\n",
    "            print(f\"GPT-5 Summary: {summary_text}\\n\")\n",
    "        except Exception as e:\n",
    "            print(f\"Error getting summary: {e}\")\n",
    "        continue\n",
    "\n",
    "    # Save the user input\n",
    "    history.append(f\"User: {user_msg}\")\n",
    "\n",
    "    # Join the transcript into one big text block\n",
    "    prompt = \"\\n\".join(history)\n",
    "\n",
    "    #Error handling so that if the API call fails, the program retries three times before giving up\n",
    "    # Retry logic\n",
    "    retries = 0\n",
    "    max_retries = 3\n",
    "    while retries < max_retries:\n",
    "        try:\n",
    "            # Send the prompt to GPT-5\n",
    "            response = client.responses.create(\n",
    "                model=\"gpt-5\",\n",
    "                input=prompt,\n",
    "                reasoning={\"effort\": \"medium\"},\n",
    "                text={\"verbosity\": \"medium\"}\n",
    "            )\n",
    "            \n",
    "            # Get the assistant’s text\n",
    "            reply = response.output_text.strip()\n",
    "            \n",
    "            # Save assistant reply for context in the next turn\n",
    "            history.append(f\"Assistant: {reply}\")\n",
    "            print(f\"GPT-5: {reply}\\n\")\n",
    "            break  # Break out of the retry loop on success\n",
    "\n",
    "        except Exception as e:\n",
    "            print(f\"Error: {e}. Retrying... ({retries + 1}/{max_retries})\")\n",
    "            retries += 1\n",
    "            time.sleep(2)  # Wait a bit before retrying\n",
    "    \n",
    "    if retries == max_retries:\n",
    "        print(\"Max retries exceeded. Exiting.\")\n",
    "        break"
   ]
  }
 ],
 "metadata": {
  "kernelspec": {
   "display_name": "Python 3",
   "language": "python",
   "name": "python3"
  },
  "language_info": {
   "codemirror_mode": {
    "name": "ipython",
    "version": 3
   },
   "file_extension": ".py",
   "mimetype": "text/x-python",
   "name": "python",
   "nbconvert_exporter": "python",
   "pygments_lexer": "ipython3",
   "version": "3.12.10"
  }
 },
 "nbformat": 4,
 "nbformat_minor": 5
}
